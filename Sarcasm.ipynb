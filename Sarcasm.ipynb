{
  "nbformat": 4,
  "nbformat_minor": 0,
  "metadata": {
    "colab": {
      "name": "Sarcasm.ipynb",
      "provenance": []
    },
    "kernelspec": {
      "name": "python3",
      "display_name": "Python 3"
    },
    "language_info": {
      "name": "python"
    }
  },
  "cells": [
    {
      "cell_type": "markdown",
      "metadata": {
        "id": "n8GbTywUeGmx"
      },
      "source": [
        "## Importing datasets"
      ]
    },
    {
      "cell_type": "code",
      "metadata": {
        "colab": {
          "base_uri": "https://localhost:8080/"
        },
        "id": "x40nMr3lYrIA",
        "outputId": "e7f20f88-4dd6-43a2-bb66-a657b6136d93"
      },
      "source": [
        "! gdown --id 1jwpMTJ0vfHLjmvoktxtCYJATlNpfRfo4\n"
      ],
      "execution_count": 3,
      "outputs": [
        {
          "output_type": "stream",
          "name": "stdout",
          "text": [
            "Downloading...\n",
            "From: https://drive.google.com/uc?id=1jwpMTJ0vfHLjmvoktxtCYJATlNpfRfo4\n",
            "To: /content/test-balanced.csv\n",
            "\r  0% 0.00/923k [00:00<?, ?B/s]\r100% 923k/923k [00:00<00:00, 60.0MB/s]\n"
          ]
        }
      ]
    },
    {
      "cell_type": "code",
      "metadata": {
        "colab": {
          "base_uri": "https://localhost:8080/"
        },
        "id": "XF3wXDxPZma_",
        "outputId": "011c6eb1-b663-4ca6-df6b-7426819a9d56"
      },
      "source": [
        "! gdown --id 1JqRiJyv_BBz6BnpUkg4Xzb96-l08FSfS"
      ],
      "execution_count": 4,
      "outputs": [
        {
          "output_type": "stream",
          "name": "stdout",
          "text": [
            "Downloading...\n",
            "From: https://drive.google.com/uc?id=1JqRiJyv_BBz6BnpUkg4Xzb96-l08FSfS\n",
            "To: /content/test-unbalanced.csv\n",
            "100% 17.4M/17.4M [00:00<00:00, 106MB/s]\n"
          ]
        }
      ]
    },
    {
      "cell_type": "code",
      "metadata": {
        "colab": {
          "base_uri": "https://localhost:8080/"
        },
        "id": "ZFaJFxkKbLPS",
        "outputId": "a93dea55-69ea-49d1-9ad4-b4aa07e66b16"
      },
      "source": [
        "! gdown --id 1U01uPbghi2_OlqNoDyG_fnnFDf0vjIsL"
      ],
      "execution_count": 5,
      "outputs": [
        {
          "output_type": "stream",
          "name": "stdout",
          "text": [
            "Downloading...\n",
            "From: https://drive.google.com/uc?id=1U01uPbghi2_OlqNoDyG_fnnFDf0vjIsL\n",
            "To: /content/train-balanced-sarcasm.csv\n",
            "100% 255M/255M [00:01<00:00, 147MB/s]\n"
          ]
        }
      ]
    },
    {
      "cell_type": "code",
      "metadata": {
        "id": "PatoupDqbTdB"
      },
      "source": [
        "import pandas as pd\n",
        "import numpy as np\n",
        "from sklearn import preprocessing\n",
        "from sklearn.model_selection import train_test_split\n",
        "from gensim.models import Word2Vec\n",
        "import matplotlib.pyplot as plt"
      ],
      "execution_count": 6,
      "outputs": []
    },
    {
      "cell_type": "markdown",
      "metadata": {
        "id": "Cpi_11wsdkH4"
      },
      "source": [
        "## Loading data"
      ]
    },
    {
      "cell_type": "code",
      "metadata": {
        "id": "mBQcQz4-dq_l"
      },
      "source": [
        "df_train_balanced = pd.read_csv(\"/content/train-balanced-sarcasm.csv\")\n",
        "df_test_balanced = pd.read_csv(\"/content/test-balanced.csv\")\n",
        "df_test_unbalanced = pd.read_csv(\"/content/test-unbalanced.csv\")"
      ],
      "execution_count": 7,
      "outputs": []
    },
    {
      "cell_type": "markdown",
      "metadata": {
        "id": "Xzl_9_ZqdGRC"
      },
      "source": [
        "### **Sample of training data (balanced)**"
      ]
    },
    {
      "cell_type": "code",
      "metadata": {
        "colab": {
          "base_uri": "https://localhost:8080/",
          "height": 204
        },
        "id": "v3Lgc-KddWmy",
        "outputId": "4538f7bf-1d4a-44ab-bba7-09d32161b09b"
      },
      "source": [
        "df_train_balanced.head()"
      ],
      "execution_count": 8,
      "outputs": [
        {
          "output_type": "execute_result",
          "data": {
            "text/html": [
              "<div>\n",
              "<style scoped>\n",
              "    .dataframe tbody tr th:only-of-type {\n",
              "        vertical-align: middle;\n",
              "    }\n",
              "\n",
              "    .dataframe tbody tr th {\n",
              "        vertical-align: top;\n",
              "    }\n",
              "\n",
              "    .dataframe thead th {\n",
              "        text-align: right;\n",
              "    }\n",
              "</style>\n",
              "<table border=\"1\" class=\"dataframe\">\n",
              "  <thead>\n",
              "    <tr style=\"text-align: right;\">\n",
              "      <th></th>\n",
              "      <th>label</th>\n",
              "      <th>comment</th>\n",
              "      <th>author</th>\n",
              "      <th>subreddit</th>\n",
              "      <th>score</th>\n",
              "      <th>ups</th>\n",
              "      <th>downs</th>\n",
              "      <th>date</th>\n",
              "      <th>created_utc</th>\n",
              "      <th>parent_comment</th>\n",
              "    </tr>\n",
              "  </thead>\n",
              "  <tbody>\n",
              "    <tr>\n",
              "      <th>0</th>\n",
              "      <td>0</td>\n",
              "      <td>NC and NH.</td>\n",
              "      <td>Trumpbart</td>\n",
              "      <td>politics</td>\n",
              "      <td>2</td>\n",
              "      <td>-1</td>\n",
              "      <td>-1</td>\n",
              "      <td>2016-10</td>\n",
              "      <td>2016-10-16 23:55:23</td>\n",
              "      <td>Yeah, I get that argument. At this point, I'd ...</td>\n",
              "    </tr>\n",
              "    <tr>\n",
              "      <th>1</th>\n",
              "      <td>0</td>\n",
              "      <td>You do know west teams play against west teams...</td>\n",
              "      <td>Shbshb906</td>\n",
              "      <td>nba</td>\n",
              "      <td>-4</td>\n",
              "      <td>-1</td>\n",
              "      <td>-1</td>\n",
              "      <td>2016-11</td>\n",
              "      <td>2016-11-01 00:24:10</td>\n",
              "      <td>The blazers and Mavericks (The wests 5 and 6 s...</td>\n",
              "    </tr>\n",
              "    <tr>\n",
              "      <th>2</th>\n",
              "      <td>0</td>\n",
              "      <td>They were underdogs earlier today, but since G...</td>\n",
              "      <td>Creepeth</td>\n",
              "      <td>nfl</td>\n",
              "      <td>3</td>\n",
              "      <td>3</td>\n",
              "      <td>0</td>\n",
              "      <td>2016-09</td>\n",
              "      <td>2016-09-22 21:45:37</td>\n",
              "      <td>They're favored to win.</td>\n",
              "    </tr>\n",
              "    <tr>\n",
              "      <th>3</th>\n",
              "      <td>0</td>\n",
              "      <td>This meme isn't funny none of the \"new york ni...</td>\n",
              "      <td>icebrotha</td>\n",
              "      <td>BlackPeopleTwitter</td>\n",
              "      <td>-8</td>\n",
              "      <td>-1</td>\n",
              "      <td>-1</td>\n",
              "      <td>2016-10</td>\n",
              "      <td>2016-10-18 21:03:47</td>\n",
              "      <td>deadass don't kill my buzz</td>\n",
              "    </tr>\n",
              "    <tr>\n",
              "      <th>4</th>\n",
              "      <td>0</td>\n",
              "      <td>I could use one of those tools.</td>\n",
              "      <td>cush2push</td>\n",
              "      <td>MaddenUltimateTeam</td>\n",
              "      <td>6</td>\n",
              "      <td>-1</td>\n",
              "      <td>-1</td>\n",
              "      <td>2016-12</td>\n",
              "      <td>2016-12-30 17:00:13</td>\n",
              "      <td>Yep can confirm I saw the tool they use for th...</td>\n",
              "    </tr>\n",
              "  </tbody>\n",
              "</table>\n",
              "</div>"
            ],
            "text/plain": [
              "   label  ...                                     parent_comment\n",
              "0      0  ...  Yeah, I get that argument. At this point, I'd ...\n",
              "1      0  ...  The blazers and Mavericks (The wests 5 and 6 s...\n",
              "2      0  ...                            They're favored to win.\n",
              "3      0  ...                         deadass don't kill my buzz\n",
              "4      0  ...  Yep can confirm I saw the tool they use for th...\n",
              "\n",
              "[5 rows x 10 columns]"
            ]
          },
          "metadata": {},
          "execution_count": 8
        }
      ]
    },
    {
      "cell_type": "markdown",
      "metadata": {
        "id": "yDQG8-rPd4z-"
      },
      "source": [
        "### **Sample of testing data (balanced)**"
      ]
    },
    {
      "cell_type": "code",
      "metadata": {
        "colab": {
          "base_uri": "https://localhost:8080/",
          "height": 204
        },
        "id": "KTLoOX7ecdMA",
        "outputId": "40fce371-c4e9-4f79-af8a-7c92f3c91315"
      },
      "source": [
        "df_test_balanced.head()"
      ],
      "execution_count": 9,
      "outputs": [
        {
          "output_type": "execute_result",
          "data": {
            "text/html": [
              "<div>\n",
              "<style scoped>\n",
              "    .dataframe tbody tr th:only-of-type {\n",
              "        vertical-align: middle;\n",
              "    }\n",
              "\n",
              "    .dataframe tbody tr th {\n",
              "        vertical-align: top;\n",
              "    }\n",
              "\n",
              "    .dataframe thead th {\n",
              "        text-align: right;\n",
              "    }\n",
              "</style>\n",
              "<table border=\"1\" class=\"dataframe\">\n",
              "  <thead>\n",
              "    <tr style=\"text-align: right;\">\n",
              "      <th></th>\n",
              "      <th>7x7dx</th>\n",
              "      <th>c07nkao c07nk63</th>\n",
              "      <th>1 0</th>\n",
              "    </tr>\n",
              "  </thead>\n",
              "  <tbody>\n",
              "    <tr>\n",
              "      <th>0</th>\n",
              "      <td>7xtxk</td>\n",
              "      <td>c07pji4 c07ppds</td>\n",
              "      <td>1 0</td>\n",
              "    </tr>\n",
              "    <tr>\n",
              "      <th>1</th>\n",
              "      <td>7zh5l</td>\n",
              "      <td>c07twag c07twp2</td>\n",
              "      <td>1 0</td>\n",
              "    </tr>\n",
              "    <tr>\n",
              "      <th>2</th>\n",
              "      <td>80nmo</td>\n",
              "      <td>c07y1rj c07xhyn</td>\n",
              "      <td>0 1</td>\n",
              "    </tr>\n",
              "    <tr>\n",
              "      <th>3</th>\n",
              "      <td>8139p</td>\n",
              "      <td>c07yhlm c07yoiw</td>\n",
              "      <td>1 0</td>\n",
              "    </tr>\n",
              "    <tr>\n",
              "      <th>4</th>\n",
              "      <td>bnmod</td>\n",
              "      <td>c0nnujf c0nofrs</td>\n",
              "      <td>1 0</td>\n",
              "    </tr>\n",
              "  </tbody>\n",
              "</table>\n",
              "</div>"
            ],
            "text/plain": [
              "   7x7dx  c07nkao c07nk63  1 0\n",
              "0  7xtxk  c07pji4 c07ppds  1 0\n",
              "1  7zh5l  c07twag c07twp2  1 0\n",
              "2  80nmo  c07y1rj c07xhyn  0 1\n",
              "3  8139p  c07yhlm c07yoiw  1 0\n",
              "4  bnmod  c0nnujf c0nofrs  1 0"
            ]
          },
          "metadata": {},
          "execution_count": 9
        }
      ]
    },
    {
      "cell_type": "markdown",
      "metadata": {
        "id": "GIBWzopid-mL"
      },
      "source": [
        "### **Sample of testing data (unbalanced)**"
      ]
    },
    {
      "cell_type": "code",
      "metadata": {
        "colab": {
          "base_uri": "https://localhost:8080/",
          "height": 204
        },
        "id": "aBOY9Hx4eBme",
        "outputId": "c7b65ca0-6850-41b9-c732-8ad745e67b6b"
      },
      "source": [
        "df_test_unbalanced.head()"
      ],
      "execution_count": 10,
      "outputs": [
        {
          "output_type": "execute_result",
          "data": {
            "text/html": [
              "<div>\n",
              "<style scoped>\n",
              "    .dataframe tbody tr th:only-of-type {\n",
              "        vertical-align: middle;\n",
              "    }\n",
              "\n",
              "    .dataframe tbody tr th {\n",
              "        vertical-align: top;\n",
              "    }\n",
              "\n",
              "    .dataframe thead th {\n",
              "        text-align: right;\n",
              "    }\n",
              "</style>\n",
              "<table border=\"1\" class=\"dataframe\">\n",
              "  <thead>\n",
              "    <tr style=\"text-align: right;\">\n",
              "      <th></th>\n",
              "      <th>7u1ht</th>\n",
              "      <th>c07em3g</th>\n",
              "      <th>1</th>\n",
              "    </tr>\n",
              "  </thead>\n",
              "  <tbody>\n",
              "    <tr>\n",
              "      <th>0</th>\n",
              "      <td>7u92p</td>\n",
              "      <td>c07f8sq c07flil c07fgh5 c07f9ck c07fn0s c07fl0...</td>\n",
              "      <td>0 0 0 0 0 0 0 0 0 0 0</td>\n",
              "    </tr>\n",
              "    <tr>\n",
              "      <th>1</th>\n",
              "      <td>7vvpw</td>\n",
              "      <td>c07khcb c07jx0k c07jzxi c07k0t3 c07jx2j</td>\n",
              "      <td>0 0 0 0 0</td>\n",
              "    </tr>\n",
              "    <tr>\n",
              "      <th>2</th>\n",
              "      <td>7vv27 c07ju7y</td>\n",
              "      <td>c07jub3</td>\n",
              "      <td>1</td>\n",
              "    </tr>\n",
              "    <tr>\n",
              "      <th>3</th>\n",
              "      <td>7wco4</td>\n",
              "      <td>c07l718 c07lfcd c07l7zu</td>\n",
              "      <td>0 0 0</td>\n",
              "    </tr>\n",
              "    <tr>\n",
              "      <th>4</th>\n",
              "      <td>7xgdr</td>\n",
              "      <td>c07o9qu</td>\n",
              "      <td>1</td>\n",
              "    </tr>\n",
              "  </tbody>\n",
              "</table>\n",
              "</div>"
            ],
            "text/plain": [
              "           7u1ht  ...                      1\n",
              "0          7u92p  ...  0 0 0 0 0 0 0 0 0 0 0\n",
              "1          7vvpw  ...              0 0 0 0 0\n",
              "2  7vv27 c07ju7y  ...                      1\n",
              "3          7wco4  ...                  0 0 0\n",
              "4          7xgdr  ...                      1\n",
              "\n",
              "[5 rows x 3 columns]"
            ]
          },
          "metadata": {},
          "execution_count": 10
        }
      ]
    },
    {
      "cell_type": "markdown",
      "metadata": {
        "id": "qREZ9bARh2za"
      },
      "source": [
        "## Data Preprocessing"
      ]
    },
    {
      "cell_type": "markdown",
      "metadata": {
        "id": "eKbHS2njh7UU"
      },
      "source": [
        "### **Tokenisation and removing stopwords**"
      ]
    },
    {
      "cell_type": "code",
      "metadata": {
        "id": "KxXFKX6geEJ0",
        "colab": {
          "base_uri": "https://localhost:8080/"
        },
        "outputId": "7b56cffe-adae-47af-aebb-ce82234d6bef"
      },
      "source": [
        "from nltk.tokenize import TreebankWordTokenizer, WordPunctTokenizer\n",
        "from nltk.stem import WordNetLemmatizer, PorterStemmer\n",
        "from nltk.corpus import stopwords\n",
        "import nltk\n",
        "\n",
        "nltk.download('stopwords')\n",
        "porter_stemmer = PorterStemmer()\n",
        "word_tokenizer = TreebankWordTokenizer()\n",
        "word_tokenizer2 = WordPunctTokenizer()\n",
        "lemmatizer = WordNetLemmatizer()\n",
        "\n",
        "\n",
        "def create_stopwords_dict():\n",
        "  stopwords_dict = {}\n",
        "  for word in set(stopwords.words('english')):\n",
        "    stopwords_dict[word] = True\n",
        "  return stopwords_dict\n",
        "\n",
        "stop_words_dict = create_stopwords_dict()\n",
        "print(stop_words_dict)"
      ],
      "execution_count": 11,
      "outputs": [
        {
          "output_type": "stream",
          "name": "stdout",
          "text": [
            "[nltk_data] Downloading package stopwords to /root/nltk_data...\n",
            "[nltk_data]   Unzipping corpora/stopwords.zip.\n",
            "{'a': True, 'mustn': True, 'he': True, 'all': True, 'ourselves': True, 'whom': True, 'over': True, 'during': True, 'most': True, 'itself': True, 'is': True, 'the': True, 'hers': True, 'any': True, 'ours': True, 'her': True, 'few': True, 'just': True, 'no': True, 'its': True, 'they': True, 're': True, 'those': True, 'for': True, 'are': True, 'mightn': True, 'doesn': True, 'couldn': True, 'same': True, 'm': True, 'haven': True, 'because': True, 'when': True, 'that': True, 'other': True, 'too': True, 'his': True, 'under': True, \"you'll\": True, 'their': True, 'll': True, \"haven't\": True, 'yours': True, \"shan't\": True, 'we': True, 'shan': True, 'shouldn': True, 'my': True, 'wouldn': True, 'our': True, 'd': True, 'who': True, 'don': True, 'himself': True, 'you': True, 'further': True, 'up': True, 'each': True, \"wasn't\": True, 'should': True, 'there': True, 'have': True, 'then': True, 'it': True, 'how': True, 'more': True, 'into': True, \"should've\": True, 'yourself': True, 'where': True, 'been': True, 'theirs': True, 't': True, \"hadn't\": True, \"hasn't\": True, 'myself': True, 'ain': True, \"she's\": True, 'once': True, 'wasn': True, 'isn': True, 'these': True, \"you've\": True, 'them': True, 'on': True, \"didn't\": True, 'an': True, \"mightn't\": True, 'below': True, 'against': True, 'such': True, 'yourselves': True, 'so': True, 'does': True, \"doesn't\": True, \"wouldn't\": True, \"you'd\": True, \"shouldn't\": True, 'both': True, 'had': True, 'your': True, 'off': True, 'do': True, 'nor': True, \"it's\": True, 'from': True, 'am': True, 'very': True, \"weren't\": True, 've': True, 'has': True, 'between': True, 'after': True, 'weren': True, 'what': True, 'did': True, 'as': True, 'while': True, 'with': True, 'i': True, 'down': True, 'of': True, 'didn': True, 'needn': True, \"won't\": True, 'and': True, 'out': True, 'now': True, 'herself': True, 'having': True, 'about': True, 's': True, 'me': True, 'hasn': True, 'being': True, \"you're\": True, 'here': True, 'won': True, 'if': True, 'than': True, \"don't\": True, 'to': True, \"couldn't\": True, 'but': True, \"aren't\": True, \"needn't\": True, 'through': True, \"that'll\": True, \"isn't\": True, 'ma': True, 'above': True, 'at': True, 'again': True, 'by': True, 'or': True, 'doing': True, 'which': True, 'not': True, 'this': True, 'will': True, 'she': True, 'be': True, 'y': True, 'themselves': True, 'why': True, 'can': True, 'aren': True, 'own': True, 'before': True, 'some': True, \"mustn't\": True, 'only': True, 'him': True, 'were': True, 'until': True, 'o': True, 'hadn': True, 'was': True, 'in': True}\n"
          ]
        }
      ]
    },
    {
      "cell_type": "code",
      "metadata": {
        "id": "LcbzuL1NkPRe"
      },
      "source": [
        "def remove_stopwords_and_tokenize(text):\n",
        "  arr = word_tokenizer.tokenize(text)\n",
        "  arr = [word for word in arr if word not in stop_words_dict]\n",
        "  \n",
        "  return arr\n",
        "\n",
        "df_train_balanced.dropna(subset=['comment'], inplace=True)\n",
        "df_train_balanced['comment'] = df_train_balanced['comment'].apply(lambda x: remove_stopwords_and_tokenize(x))\n",
        "df_train_balanced['parent_comment'] = df_train_balanced['parent_comment'].apply(lambda x: remove_stopwords_and_tokenize(x))"
      ],
      "execution_count": 12,
      "outputs": []
    },
    {
      "cell_type": "code",
      "metadata": {
        "colab": {
          "base_uri": "https://localhost:8080/",
          "height": 204
        },
        "id": "De5xajroP0tV",
        "outputId": "42226dee-67cc-4dc2-e191-299f542e398a"
      },
      "source": [
        "df_train_balanced.head()"
      ],
      "execution_count": 13,
      "outputs": [
        {
          "output_type": "execute_result",
          "data": {
            "text/html": [
              "<div>\n",
              "<style scoped>\n",
              "    .dataframe tbody tr th:only-of-type {\n",
              "        vertical-align: middle;\n",
              "    }\n",
              "\n",
              "    .dataframe tbody tr th {\n",
              "        vertical-align: top;\n",
              "    }\n",
              "\n",
              "    .dataframe thead th {\n",
              "        text-align: right;\n",
              "    }\n",
              "</style>\n",
              "<table border=\"1\" class=\"dataframe\">\n",
              "  <thead>\n",
              "    <tr style=\"text-align: right;\">\n",
              "      <th></th>\n",
              "      <th>label</th>\n",
              "      <th>comment</th>\n",
              "      <th>author</th>\n",
              "      <th>subreddit</th>\n",
              "      <th>score</th>\n",
              "      <th>ups</th>\n",
              "      <th>downs</th>\n",
              "      <th>date</th>\n",
              "      <th>created_utc</th>\n",
              "      <th>parent_comment</th>\n",
              "    </tr>\n",
              "  </thead>\n",
              "  <tbody>\n",
              "    <tr>\n",
              "      <th>0</th>\n",
              "      <td>0</td>\n",
              "      <td>[NC, NH, .]</td>\n",
              "      <td>Trumpbart</td>\n",
              "      <td>politics</td>\n",
              "      <td>2</td>\n",
              "      <td>-1</td>\n",
              "      <td>-1</td>\n",
              "      <td>2016-10</td>\n",
              "      <td>2016-10-16 23:55:23</td>\n",
              "      <td>[Yeah, ,, I, get, argument., At, point, ,, I, ...</td>\n",
              "    </tr>\n",
              "    <tr>\n",
              "      <th>1</th>\n",
              "      <td>0</td>\n",
              "      <td>[You, know, west, teams, play, west, teams, ea...</td>\n",
              "      <td>Shbshb906</td>\n",
              "      <td>nba</td>\n",
              "      <td>-4</td>\n",
              "      <td>-1</td>\n",
              "      <td>-1</td>\n",
              "      <td>2016-11</td>\n",
              "      <td>2016-11-01 00:24:10</td>\n",
              "      <td>[The, blazers, Mavericks, (, The, wests, 5, 6,...</td>\n",
              "    </tr>\n",
              "    <tr>\n",
              "      <th>2</th>\n",
              "      <td>0</td>\n",
              "      <td>[They, underdogs, earlier, today, ,, since, Gr...</td>\n",
              "      <td>Creepeth</td>\n",
              "      <td>nfl</td>\n",
              "      <td>3</td>\n",
              "      <td>3</td>\n",
              "      <td>0</td>\n",
              "      <td>2016-09</td>\n",
              "      <td>2016-09-22 21:45:37</td>\n",
              "      <td>[They, 're, favored, win, .]</td>\n",
              "    </tr>\n",
              "    <tr>\n",
              "      <th>3</th>\n",
              "      <td>0</td>\n",
              "      <td>[This, meme, n't, funny, none, ``, new, york, ...</td>\n",
              "      <td>icebrotha</td>\n",
              "      <td>BlackPeopleTwitter</td>\n",
              "      <td>-8</td>\n",
              "      <td>-1</td>\n",
              "      <td>-1</td>\n",
              "      <td>2016-10</td>\n",
              "      <td>2016-10-18 21:03:47</td>\n",
              "      <td>[deadass, n't, kill, buzz]</td>\n",
              "    </tr>\n",
              "    <tr>\n",
              "      <th>4</th>\n",
              "      <td>0</td>\n",
              "      <td>[I, could, use, one, tools, .]</td>\n",
              "      <td>cush2push</td>\n",
              "      <td>MaddenUltimateTeam</td>\n",
              "      <td>6</td>\n",
              "      <td>-1</td>\n",
              "      <td>-1</td>\n",
              "      <td>2016-12</td>\n",
              "      <td>2016-12-30 17:00:13</td>\n",
              "      <td>[Yep, confirm, I, saw, tool, use, that., It, m...</td>\n",
              "    </tr>\n",
              "  </tbody>\n",
              "</table>\n",
              "</div>"
            ],
            "text/plain": [
              "   label  ...                                     parent_comment\n",
              "0      0  ...  [Yeah, ,, I, get, argument., At, point, ,, I, ...\n",
              "1      0  ...  [The, blazers, Mavericks, (, The, wests, 5, 6,...\n",
              "2      0  ...                       [They, 're, favored, win, .]\n",
              "3      0  ...                         [deadass, n't, kill, buzz]\n",
              "4      0  ...  [Yep, confirm, I, saw, tool, use, that., It, m...\n",
              "\n",
              "[5 rows x 10 columns]"
            ]
          },
          "metadata": {},
          "execution_count": 13
        }
      ]
    },
    {
      "cell_type": "code",
      "metadata": {
        "id": "584oYVS25xWb"
      },
      "source": [
        "## Store number of sarcastic, non sarcastic, and total comments made by an author in the past\n",
        "## First filter and split the dataset into sarcastic comments and non-sarcastic comments\n",
        "\n",
        "df_train_balanced_sarcastic = df_train_balanced[df_train_balanced['label'] == 1]\n",
        "df_train_balanced_unsarcastic = df_train_balanced[df_train_balanced['label'] == 0]\n",
        "\n",
        "## Ensure dataset is balanced\n",
        "print(\"Sarcastic size \", df_train_balanced_sarcastic.size)\n",
        "print(\"Unsarcastic size \", df_train_balanced_unsarcastic.size)"
      ],
      "execution_count": null,
      "outputs": []
    },
    {
      "cell_type": "code",
      "metadata": {
        "id": "3sTKKt6VQ9qj",
        "colab": {
          "base_uri": "https://localhost:8080/",
          "height": 204
        },
        "outputId": "504602c0-1bc1-4b00-a26a-dbc40a5099ac"
      },
      "source": [
        "df_train_balanced['num_comment_words'] = df_train_balanced['comment'].apply(lambda x: len(x))\n",
        "df_train_balanced['num_parent_comment_words'] = df_train_balanced['parent_comment'].apply(lambda x: len(x))\n",
        "df_train_balanced.head()"
      ],
      "execution_count": 14,
      "outputs": [
        {
          "output_type": "execute_result",
          "data": {
            "text/html": [
              "<div>\n",
              "<style scoped>\n",
              "    .dataframe tbody tr th:only-of-type {\n",
              "        vertical-align: middle;\n",
              "    }\n",
              "\n",
              "    .dataframe tbody tr th {\n",
              "        vertical-align: top;\n",
              "    }\n",
              "\n",
              "    .dataframe thead th {\n",
              "        text-align: right;\n",
              "    }\n",
              "</style>\n",
              "<table border=\"1\" class=\"dataframe\">\n",
              "  <thead>\n",
              "    <tr style=\"text-align: right;\">\n",
              "      <th></th>\n",
              "      <th>label</th>\n",
              "      <th>comment</th>\n",
              "      <th>author</th>\n",
              "      <th>subreddit</th>\n",
              "      <th>score</th>\n",
              "      <th>ups</th>\n",
              "      <th>downs</th>\n",
              "      <th>date</th>\n",
              "      <th>created_utc</th>\n",
              "      <th>parent_comment</th>\n",
              "      <th>num_comment_words</th>\n",
              "      <th>num_parent_comment_words</th>\n",
              "    </tr>\n",
              "  </thead>\n",
              "  <tbody>\n",
              "    <tr>\n",
              "      <th>0</th>\n",
              "      <td>0</td>\n",
              "      <td>[NC, NH, .]</td>\n",
              "      <td>Trumpbart</td>\n",
              "      <td>politics</td>\n",
              "      <td>2</td>\n",
              "      <td>-1</td>\n",
              "      <td>-1</td>\n",
              "      <td>2016-10</td>\n",
              "      <td>2016-10-16 23:55:23</td>\n",
              "      <td>[Yeah, ,, I, get, argument., At, point, ,, I, ...</td>\n",
              "      <td>3</td>\n",
              "      <td>15</td>\n",
              "    </tr>\n",
              "    <tr>\n",
              "      <th>1</th>\n",
              "      <td>0</td>\n",
              "      <td>[You, know, west, teams, play, west, teams, ea...</td>\n",
              "      <td>Shbshb906</td>\n",
              "      <td>nba</td>\n",
              "      <td>-4</td>\n",
              "      <td>-1</td>\n",
              "      <td>-1</td>\n",
              "      <td>2016-11</td>\n",
              "      <td>2016-11-01 00:24:10</td>\n",
              "      <td>[The, blazers, Mavericks, (, The, wests, 5, 6,...</td>\n",
              "      <td>11</td>\n",
              "      <td>21</td>\n",
              "    </tr>\n",
              "    <tr>\n",
              "      <th>2</th>\n",
              "      <td>0</td>\n",
              "      <td>[They, underdogs, earlier, today, ,, since, Gr...</td>\n",
              "      <td>Creepeth</td>\n",
              "      <td>nfl</td>\n",
              "      <td>3</td>\n",
              "      <td>3</td>\n",
              "      <td>0</td>\n",
              "      <td>2016-09</td>\n",
              "      <td>2016-09-22 21:45:37</td>\n",
              "      <td>[They, 're, favored, win, .]</td>\n",
              "      <td>16</td>\n",
              "      <td>5</td>\n",
              "    </tr>\n",
              "    <tr>\n",
              "      <th>3</th>\n",
              "      <td>0</td>\n",
              "      <td>[This, meme, n't, funny, none, ``, new, york, ...</td>\n",
              "      <td>icebrotha</td>\n",
              "      <td>BlackPeopleTwitter</td>\n",
              "      <td>-8</td>\n",
              "      <td>-1</td>\n",
              "      <td>-1</td>\n",
              "      <td>2016-10</td>\n",
              "      <td>2016-10-18 21:03:47</td>\n",
              "      <td>[deadass, n't, kill, buzz]</td>\n",
              "      <td>12</td>\n",
              "      <td>4</td>\n",
              "    </tr>\n",
              "    <tr>\n",
              "      <th>4</th>\n",
              "      <td>0</td>\n",
              "      <td>[I, could, use, one, tools, .]</td>\n",
              "      <td>cush2push</td>\n",
              "      <td>MaddenUltimateTeam</td>\n",
              "      <td>6</td>\n",
              "      <td>-1</td>\n",
              "      <td>-1</td>\n",
              "      <td>2016-12</td>\n",
              "      <td>2016-12-30 17:00:13</td>\n",
              "      <td>[Yep, confirm, I, saw, tool, use, that., It, m...</td>\n",
              "      <td>6</td>\n",
              "      <td>11</td>\n",
              "    </tr>\n",
              "  </tbody>\n",
              "</table>\n",
              "</div>"
            ],
            "text/plain": [
              "   label  ... num_parent_comment_words\n",
              "0      0  ...                       15\n",
              "1      0  ...                       21\n",
              "2      0  ...                        5\n",
              "3      0  ...                        4\n",
              "4      0  ...                       11\n",
              "\n",
              "[5 rows x 12 columns]"
            ]
          },
          "metadata": {},
          "execution_count": 14
        }
      ]
    },
    {
      "cell_type": "code",
      "metadata": {
        "colab": {
          "base_uri": "https://localhost:8080/"
        },
        "id": "cGid0sMDx6fK",
        "outputId": "f2262a88-7fe1-4587-b12e-9996ea289648"
      },
      "source": [
        "def feature_history(col):\n",
        "  col_sarcasm_history = {}\n",
        "  col_non_sarcasm_history = {}\n",
        "  col_sarcasm_proportion_history = {}\n",
        "  num_comments = {}\n",
        "  for val in list(df_train_balanced_sarcastic[col]):\n",
        "    if (val not in col_sarcasm_history):\n",
        "      col_sarcasm_history[val] = 1\n",
        "    else:\n",
        "      col_sarcasm_history[val] += 1\n",
        "\n",
        "    if (val not in col_non_sarcasm_history):\n",
        "      col_non_sarcasm_history[val] = 1\n",
        "\n",
        "  for val in list(df_train_balanced_unsarcastic[col]):\n",
        "    if (val not in col_sarcasm_history):\n",
        "      col_non_sarcasm_history[val] = 1\n",
        "    else:\n",
        "      col_non_sarcasm_history[val] += 1\n",
        "    \n",
        "    if (val not in col_sarcasm_history):\n",
        "      col_sarcasm_history[val] = 0;\n",
        "\n",
        "  for (val, num_sarcastic_comments) in col_sarcasm_history.items():\n",
        "    sarcasm_proportion = col_sarcasm_history[val]/(col_sarcasm_history[val] + col_non_sarcasm_history[val])\n",
        "    num_comments[val] = (col_sarcasm_history[val] + col_non_sarcasm_history[val])\n",
        "    col_sarcasm_proportion_history[val] = sarcasm_proportion\n",
        "\n",
        "  num_comments_values = num_comments.values()\n",
        "  max_num_comments = max(num_comments_values)\n",
        "  min_num_comments = min(num_comments_values)\n",
        "\n",
        "  ## Normalization\n",
        "  for val in num_comments.keys():\n",
        "    num_comments[val] = (num_comments[val] - min_num_comments)/(max_num_comments - min_num_comments)\n",
        "\n",
        "  return col_sarcasm_proportion_history, num_comments\n",
        "\n",
        "author_sarcasm_proportion_history, num_comments_by_author = feature_history(\"author\")\n",
        "df_train_balanced[\"author_history\"] = df_train_balanced[\"author\"].apply(lambda x: author_sarcasm_proportion_history[x])\n",
        "df_train_balanced[\"num_comments_by_author\"] = df_train_balanced[\"author\"].apply(lambda x: num_comments_by_author[x])\n",
        "print(\"Number of authors \", len(num_comments_by_author.keys()))"
      ],
      "execution_count": 25,
      "outputs": [
        {
          "output_type": "stream",
          "name": "stdout",
          "text": [
            "Number of authors  256560\n"
          ]
        }
      ]
    },
    {
      "cell_type": "code",
      "metadata": {
        "id": "Uh6FNFLot-QG",
        "colab": {
          "base_uri": "https://localhost:8080/"
        },
        "outputId": "b0eda7ab-33ba-42bf-9355-f1eef0528024"
      },
      "source": [
        "num_unique_subreddits = df_train_balanced['subreddit'].nunique()\n",
        "num_cols_train_balanced = df_train_balanced.size\n",
        "num_comments_per_subreddit = num_cols_train_balanced/num_unique_subreddits\n",
        "num_comments_per_subreddit\n",
        "\n",
        "subreddit_sarcasm_proportion_history, num_comments_by_subreddit = feature_history(\"subreddit\")\n",
        "df_train_balanced[\"author_history\"] = df_train_balanced[\"subreddit\"].apply(lambda x: subreddit_sarcasm_proportion_history[x])\n",
        "df_train_balanced[\"num_comments_by_author\"] = df_train_balanced[\"subreddit\"].apply(lambda x: num_comments_by_subreddit[x])\n",
        "print(\"Number of subreddits \", len(num_comments_by_subreddit.keys()))"
      ],
      "execution_count": 26,
      "outputs": [
        {
          "output_type": "stream",
          "name": "stdout",
          "text": [
            "Number of subreddits  14876\n"
          ]
        }
      ]
    },
    {
      "cell_type": "code",
      "metadata": {
        "colab": {
          "base_uri": "https://localhost:8080/",
          "height": 340
        },
        "id": "KLsaJ48apwi-",
        "outputId": "3afec584-100d-4e29-fbe6-cb5dd7c0522b"
      },
      "source": [
        "df_train_balanced.head()"
      ],
      "execution_count": 27,
      "outputs": [
        {
          "output_type": "execute_result",
          "data": {
            "text/html": [
              "<div>\n",
              "<style scoped>\n",
              "    .dataframe tbody tr th:only-of-type {\n",
              "        vertical-align: middle;\n",
              "    }\n",
              "\n",
              "    .dataframe tbody tr th {\n",
              "        vertical-align: top;\n",
              "    }\n",
              "\n",
              "    .dataframe thead th {\n",
              "        text-align: right;\n",
              "    }\n",
              "</style>\n",
              "<table border=\"1\" class=\"dataframe\">\n",
              "  <thead>\n",
              "    <tr style=\"text-align: right;\">\n",
              "      <th></th>\n",
              "      <th>label</th>\n",
              "      <th>comment</th>\n",
              "      <th>author</th>\n",
              "      <th>subreddit</th>\n",
              "      <th>score</th>\n",
              "      <th>ups</th>\n",
              "      <th>downs</th>\n",
              "      <th>date</th>\n",
              "      <th>created_utc</th>\n",
              "      <th>parent_comment</th>\n",
              "      <th>num_comment_words</th>\n",
              "      <th>num_parent_comment_words</th>\n",
              "      <th>author_history</th>\n",
              "      <th>num_comments_by_author</th>\n",
              "    </tr>\n",
              "  </thead>\n",
              "  <tbody>\n",
              "    <tr>\n",
              "      <th>0</th>\n",
              "      <td>0</td>\n",
              "      <td>[NC, NH, .]</td>\n",
              "      <td>Trumpbart</td>\n",
              "      <td>politics</td>\n",
              "      <td>2</td>\n",
              "      <td>-1</td>\n",
              "      <td>-1</td>\n",
              "      <td>2016-10</td>\n",
              "      <td>2016-10-16 23:55:23</td>\n",
              "      <td>[Yeah, ,, I, get, argument., At, point, ,, I, ...</td>\n",
              "      <td>3</td>\n",
              "      <td>15</td>\n",
              "      <td>0.605332</td>\n",
              "      <td>0.601349</td>\n",
              "    </tr>\n",
              "    <tr>\n",
              "      <th>1</th>\n",
              "      <td>0</td>\n",
              "      <td>[You, know, west, teams, play, west, teams, ea...</td>\n",
              "      <td>Shbshb906</td>\n",
              "      <td>nba</td>\n",
              "      <td>-4</td>\n",
              "      <td>-1</td>\n",
              "      <td>-1</td>\n",
              "      <td>2016-11</td>\n",
              "      <td>2016-11-01 00:24:10</td>\n",
              "      <td>[The, blazers, Mavericks, (, The, wests, 5, 6,...</td>\n",
              "      <td>11</td>\n",
              "      <td>21</td>\n",
              "      <td>0.526472</td>\n",
              "      <td>0.215397</td>\n",
              "    </tr>\n",
              "    <tr>\n",
              "      <th>2</th>\n",
              "      <td>0</td>\n",
              "      <td>[They, underdogs, earlier, today, ,, since, Gr...</td>\n",
              "      <td>Creepeth</td>\n",
              "      <td>nfl</td>\n",
              "      <td>3</td>\n",
              "      <td>3</td>\n",
              "      <td>0</td>\n",
              "      <td>2016-09</td>\n",
              "      <td>2016-09-22 21:45:37</td>\n",
              "      <td>[They, 're, favored, win, .]</td>\n",
              "      <td>16</td>\n",
              "      <td>5</td>\n",
              "      <td>0.509823</td>\n",
              "      <td>0.215443</td>\n",
              "    </tr>\n",
              "    <tr>\n",
              "      <th>3</th>\n",
              "      <td>0</td>\n",
              "      <td>[This, meme, n't, funny, none, ``, new, york, ...</td>\n",
              "      <td>icebrotha</td>\n",
              "      <td>BlackPeopleTwitter</td>\n",
              "      <td>-8</td>\n",
              "      <td>-1</td>\n",
              "      <td>-1</td>\n",
              "      <td>2016-10</td>\n",
              "      <td>2016-10-18 21:03:47</td>\n",
              "      <td>[deadass, n't, kill, buzz]</td>\n",
              "      <td>12</td>\n",
              "      <td>4</td>\n",
              "      <td>0.379367</td>\n",
              "      <td>0.027880</td>\n",
              "    </tr>\n",
              "    <tr>\n",
              "      <th>4</th>\n",
              "      <td>0</td>\n",
              "      <td>[I, could, use, one, tools, .]</td>\n",
              "      <td>cush2push</td>\n",
              "      <td>MaddenUltimateTeam</td>\n",
              "      <td>6</td>\n",
              "      <td>-1</td>\n",
              "      <td>-1</td>\n",
              "      <td>2016-12</td>\n",
              "      <td>2016-12-30 17:00:13</td>\n",
              "      <td>[Yep, confirm, I, saw, tool, use, that., It, m...</td>\n",
              "      <td>6</td>\n",
              "      <td>11</td>\n",
              "      <td>0.503190</td>\n",
              "      <td>0.019079</td>\n",
              "    </tr>\n",
              "  </tbody>\n",
              "</table>\n",
              "</div>"
            ],
            "text/plain": [
              "   label  ... num_comments_by_author\n",
              "0      0  ...               0.601349\n",
              "1      0  ...               0.215397\n",
              "2      0  ...               0.215443\n",
              "3      0  ...               0.027880\n",
              "4      0  ...               0.019079\n",
              "\n",
              "[5 rows x 14 columns]"
            ]
          },
          "metadata": {},
          "execution_count": 27
        }
      ]
    },
    {
      "cell_type": "code",
      "metadata": {
        "colab": {
          "base_uri": "https://localhost:8080/"
        },
        "id": "IDGNh3rZU1ho",
        "outputId": "04122e68-82ce-46f6-a440-e4b8353c6af9"
      },
      "source": [
        "model = Word2Vec(list(df_train_balanced['comment']), min_count=1,size= 100,workers=3, window =3, sg = 1)\n",
        "print(model)"
      ],
      "execution_count": 38,
      "outputs": [
        {
          "output_type": "stream",
          "name": "stdout",
          "text": [
            "Word2Vec(vocab=286603, size=100, alpha=0.025)\n"
          ]
        }
      ]
    },
    {
      "cell_type": "code",
      "metadata": {
        "colab": {
          "base_uri": "https://localhost:8080/"
        },
        "id": "jfzcL6MLXexb",
        "outputId": "ac23df1a-2870-4abc-ee0b-2a01498aa9ed"
      },
      "source": [
        "model['lmao']"
      ],
      "execution_count": 39,
      "outputs": [
        {
          "output_type": "stream",
          "name": "stderr",
          "text": [
            "/usr/local/lib/python3.7/dist-packages/ipykernel_launcher.py:1: DeprecationWarning: Call to deprecated `__getitem__` (Method will be removed in 4.0.0, use self.wv.__getitem__() instead).\n",
            "  \"\"\"Entry point for launching an IPython kernel.\n"
          ]
        },
        {
          "output_type": "execute_result",
          "data": {
            "text/plain": [
              "array([-0.2790526 ,  0.3267132 ,  0.16707304, -0.20092127,  0.27449945,\n",
              "        0.11265453, -0.33591047,  0.6426989 , -0.03416266, -0.23984823,\n",
              "        0.16321829,  0.25911152,  0.4184589 ,  0.77843827, -0.16694531,\n",
              "       -0.19487874, -0.04001873, -0.14829214,  0.28929943, -0.01079083,\n",
              "       -0.5405755 ,  0.35313714, -0.4056052 , -0.4376262 , -0.09952006,\n",
              "        0.1637126 ,  0.31541106,  0.62301755, -0.35932744,  0.3664826 ,\n",
              "        0.14527467, -0.12249628,  0.32531998, -0.4806752 ,  0.04687217,\n",
              "        0.8414928 , -0.6379349 ,  0.4821617 , -0.16828884, -0.41009638,\n",
              "        0.2959564 , -0.18136306,  0.88568926, -0.9685257 ,  0.24162081,\n",
              "       -0.4473707 , -0.08332538,  0.03992237,  0.01273577,  0.09052487,\n",
              "       -0.2915893 , -0.1651263 , -0.21028213, -0.4164008 ,  0.18922034,\n",
              "       -0.6633589 ,  0.46683195, -0.19294062, -0.3274637 , -0.12314048,\n",
              "        0.3044461 , -0.01567632,  0.67139924,  0.37783837, -0.24034737,\n",
              "        0.07777663, -0.25305477, -0.3606546 , -0.08390702, -0.03339587,\n",
              "        0.32740223, -0.14253117, -0.14019473, -0.20552757, -0.9166981 ,\n",
              "        0.26297775, -0.81414604,  0.17493641, -0.3494992 ,  0.1484441 ,\n",
              "       -0.00669198, -0.27684802, -0.04477828, -0.25573647, -0.5673004 ,\n",
              "        0.6886434 , -0.7518243 , -0.5162913 , -0.57625794,  0.10733765,\n",
              "        0.2777022 ,  0.2471921 , -0.45525756,  0.23080651, -0.09430044,\n",
              "       -0.3533157 ,  0.2602854 , -0.10813252,  0.37400198,  0.01292504],\n",
              "      dtype=float32)"
            ]
          },
          "metadata": {},
          "execution_count": 39
        }
      ]
    },
    {
      "cell_type": "code",
      "metadata": {
        "colab": {
          "base_uri": "https://localhost:8080/"
        },
        "id": "y5dNUAgQ5m5h",
        "outputId": "c7033fff-32f3-4ec7-c0af-638b08c0ad39"
      },
      "source": [
        "## Store number of sarcastic, non sarcastic, and total comments made by an author in the past\n",
        "## First filter and split the dataset into sarcastic comments and non-sarcastic comments\n",
        "\n",
        "df_train_balanced_sarcastic = df_train_balanced[df_train_balanced['label'] == 1]\n",
        "df_train_balanced_unsarcastic = df_train_balanced[df_train_balanced['label'] == 0]\n",
        "print(df_train_balanced_sarcastic.head())\n",
        "print(df_train_balanced_unsarcastic.head())"
      ],
      "execution_count": 37,
      "outputs": [
        {
          "output_type": "stream",
          "name": "stdout",
          "text": [
            "    label  ... num_comments_by_author\n",
            "33      1  ...               0.000305\n",
            "44      1  ...               0.601349\n",
            "45      1  ...               0.601349\n",
            "66      1  ...               0.601349\n",
            "69      1  ...               0.008024\n",
            "\n",
            "[5 rows x 14 columns]\n",
            "   label  ... num_comments_by_author\n",
            "0      0  ...               0.601349\n",
            "1      0  ...               0.215397\n",
            "2      0  ...               0.215443\n",
            "3      0  ...               0.027880\n",
            "4      0  ...               0.019079\n",
            "\n",
            "[5 rows x 14 columns]\n"
          ]
        }
      ]
    },
    {
      "cell_type": "code",
      "metadata": {
        "id": "zuTWB7fvnaAt"
      },
      "source": [
        ""
      ],
      "execution_count": 37,
      "outputs": []
    },
    {
      "cell_type": "code",
      "metadata": {
        "id": "GkUmSuzf6v8T"
      },
      "source": [
        ""
      ],
      "execution_count": 37,
      "outputs": []
    },
    {
      "cell_type": "code",
      "metadata": {
        "id": "xqi-2xmp-sh4"
      },
      "source": [
        ""
      ],
      "execution_count": null,
      "outputs": []
    }
  ]
}